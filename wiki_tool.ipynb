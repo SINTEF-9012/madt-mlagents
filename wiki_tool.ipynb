{
 "cells": [
  {
   "cell_type": "code",
   "execution_count": 1,
   "metadata": {},
   "outputs": [
    {
     "name": "stdout",
     "output_type": "stream",
     "text": [
      "\u001b[33mwiki_tool\u001b[0m (to wiki_tool_driver):\n",
      "\n",
      "I want to know something about a country with nick name uncle sam\n",
      "\n",
      "--------------------------------------------------------------------------------\n",
      "\u001b[31m\n",
      ">>>>>>>> USING AUTO REPLY...\u001b[0m\n",
      "[autogen.oai.client: 08-30 14:25:23] {329} WARNING - Model llama3.1 is not found. The cost will be 0. In your config_list, add field {\"price\" : [prompt_price_per_1k, completion_token_price_per_1k]} for customized pricing.\n",
      "\u001b[33mwiki_tool_driver\u001b[0m (to wiki_tool):\n",
      "\n",
      "\n",
      "\u001b[32m***** Suggested tool call (call_ptlazjns): describe_country *****\u001b[0m\n",
      "Arguments: \n",
      "{\"country_name\":\"United States\"}\n",
      "\u001b[32m*****************************************************************\u001b[0m\n",
      "\n",
      "--------------------------------------------------------------------------------\n",
      "\u001b[31m\n",
      ">>>>>>>> USING AUTO REPLY...\u001b[0m\n",
      "\u001b[35m\n",
      ">>>>>>>> EXECUTING FUNCTION describe_country...\u001b[0m\n",
      "\u001b[33mwiki_tool\u001b[0m (to wiki_tool_driver):\n",
      "\n",
      "\u001b[33mwiki_tool\u001b[0m (to wiki_tool_driver):\n",
      "\n",
      "\u001b[32m***** Response from calling tool (call_ptlazjns) *****\u001b[0m\n",
      "The United States of America (USA or U.S.A.), commonly known as the United States (US or U.S.) or America, is a country primarily located in North America. It is a federal union of 50 states, the federal capital district of Washington, D.C., and 326 Indian reservations. The 48 contiguous states are bordered by Canada to the north and Mexico to the south. The State of Alaska lies to the northwest, while the State of Hawaii is an archipelago in the Pacific Ocean. The United States also asserts sovereignty over five major island territories and various uninhabited islands. The country has the world's third-largest land area, second-largest exclusive economic zone, and third-largest population, exceeding 334 million.\n",
      "Paleo-Indians migrated across the Bering land bridge more than 12,000 years ago, and went on to form various civilizations and societies. British colonization led to the first settlement of the Thirteen Colonies in Virginia in 1607. Clashes with the British Crown over taxation and political representation sparked the American Revolution, with the Second Continental Congress formally declaring independence on July 4, 1776. Following its victory in the 1775–1783 Revolutionary War, the country continued to expand across North America. As more states were admitted, a North-South sectional division over slavery led to the secession of the Confederate States of America, which fought the remaining states of the Union during the 1861–1865 American Civil War. With the Union's victory and preservation, slavery was abolished nationally. By 1890, the United States had established itself as a great power. After Japan's attack on Pearl Harbor in December 1941, the U.S. entered World War II. The aftermath of the war left the U.S. and the Soviet Union as the world's two superpowers and led to the Cold War, during which both countries engaged in a struggle for ideological dominance and international influence. Following the Soviet Union's collapse and the end of the Cold War in 1991, the U.S. emerged as the world's sole superpower, wielding significant geopolitical influence globally.\n",
      "The U.S. national government is a presidential constitutional federal republic and liberal democracy with three separate branches: legislative, executive, and judicial. It has a bicameral national legislature composed of the House of Representatives, a lower house based on population; and the Senate, an upper house based on equal representation for each state. Substantial autonomy is provided by federalism, with a political culture promoting liberty, equality, individualism, personal autonomy, and limited government.\n",
      "One of the world's most developed countries, the United States has had the largest nominal GDP since about 1890 and accounted for 15% of the global economy in 2023. It possesses by far the largest amount of wealth of any country and has the highest disposable household income per capita among OECD countries. The U.S. ranks among the world's highest in economic competitiveness, productivity, innovation, human rights, and higher education. Its hard power and cultural influence have a global reach. The U.S. is a founding member of the World Bank, Organization of American States, NATO, and United Nations, as well as a permanent member of the UN Security Council.\n",
      "\u001b[32m******************************************************\u001b[0m\n",
      "\n",
      "--------------------------------------------------------------------------------\n",
      "\u001b[31m\n",
      ">>>>>>>> USING AUTO REPLY...\u001b[0m\n",
      "[autogen.oai.client: 08-30 14:25:45] {329} WARNING - Model llama3.1 is not found. The cost will be 0. In your config_list, add field {\"price\" : [prompt_price_per_1k, completion_token_price_per_1k]} for customized pricing.\n",
      "\u001b[33mwiki_tool_driver\u001b[0m (to wiki_tool):\n",
      "\n",
      "TERMINATE\n",
      "\n",
      "--------------------------------------------------------------------------------\n"
     ]
    },
    {
     "data": {
      "text/plain": [
       "ChatResult(chat_id=None, chat_history=[{'content': 'I want to know something about a country with nick name uncle sam', 'role': 'assistant', 'name': 'wiki_tool'}, {'content': '', 'tool_calls': [{'id': 'call_ptlazjns', 'function': {'arguments': '{\"country_name\":\"United States\"}', 'name': 'describe_country'}, 'type': 'function'}], 'role': 'assistant'}, {'content': \"The United States of America (USA or U.S.A.), commonly known as the United States (US or U.S.) or America, is a country primarily located in North America. It is a federal union of 50 states, the federal capital district of Washington, D.C., and 326 Indian reservations. The 48 contiguous states are bordered by Canada to the north and Mexico to the south. The State of Alaska lies to the northwest, while the State of Hawaii is an archipelago in the Pacific Ocean. The United States also asserts sovereignty over five major island territories and various uninhabited islands. The country has the world's third-largest land area, second-largest exclusive economic zone, and third-largest population, exceeding 334 million.\\nPaleo-Indians migrated across the Bering land bridge more than 12,000 years ago, and went on to form various civilizations and societies. British colonization led to the first settlement of the Thirteen Colonies in Virginia in 1607. Clashes with the British Crown over taxation and political representation sparked the American Revolution, with the Second Continental Congress formally declaring independence on July 4, 1776. Following its victory in the 1775–1783 Revolutionary War, the country continued to expand across North America. As more states were admitted, a North-South sectional division over slavery led to the secession of the Confederate States of America, which fought the remaining states of the Union during the 1861–1865 American Civil War. With the Union's victory and preservation, slavery was abolished nationally. By 1890, the United States had established itself as a great power. After Japan's attack on Pearl Harbor in December 1941, the U.S. entered World War II. The aftermath of the war left the U.S. and the Soviet Union as the world's two superpowers and led to the Cold War, during which both countries engaged in a struggle for ideological dominance and international influence. Following the Soviet Union's collapse and the end of the Cold War in 1991, the U.S. emerged as the world's sole superpower, wielding significant geopolitical influence globally.\\nThe U.S. national government is a presidential constitutional federal republic and liberal democracy with three separate branches: legislative, executive, and judicial. It has a bicameral national legislature composed of the House of Representatives, a lower house based on population; and the Senate, an upper house based on equal representation for each state. Substantial autonomy is provided by federalism, with a political culture promoting liberty, equality, individualism, personal autonomy, and limited government.\\nOne of the world's most developed countries, the United States has had the largest nominal GDP since about 1890 and accounted for 15% of the global economy in 2023. It possesses by far the largest amount of wealth of any country and has the highest disposable household income per capita among OECD countries. The U.S. ranks among the world's highest in economic competitiveness, productivity, innovation, human rights, and higher education. Its hard power and cultural influence have a global reach. The U.S. is a founding member of the World Bank, Organization of American States, NATO, and United Nations, as well as a permanent member of the UN Security Council.\", 'tool_responses': [{'tool_call_id': 'call_ptlazjns', 'role': 'tool', 'content': \"The United States of America (USA or U.S.A.), commonly known as the United States (US or U.S.) or America, is a country primarily located in North America. It is a federal union of 50 states, the federal capital district of Washington, D.C., and 326 Indian reservations. The 48 contiguous states are bordered by Canada to the north and Mexico to the south. The State of Alaska lies to the northwest, while the State of Hawaii is an archipelago in the Pacific Ocean. The United States also asserts sovereignty over five major island territories and various uninhabited islands. The country has the world's third-largest land area, second-largest exclusive economic zone, and third-largest population, exceeding 334 million.\\nPaleo-Indians migrated across the Bering land bridge more than 12,000 years ago, and went on to form various civilizations and societies. British colonization led to the first settlement of the Thirteen Colonies in Virginia in 1607. Clashes with the British Crown over taxation and political representation sparked the American Revolution, with the Second Continental Congress formally declaring independence on July 4, 1776. Following its victory in the 1775–1783 Revolutionary War, the country continued to expand across North America. As more states were admitted, a North-South sectional division over slavery led to the secession of the Confederate States of America, which fought the remaining states of the Union during the 1861–1865 American Civil War. With the Union's victory and preservation, slavery was abolished nationally. By 1890, the United States had established itself as a great power. After Japan's attack on Pearl Harbor in December 1941, the U.S. entered World War II. The aftermath of the war left the U.S. and the Soviet Union as the world's two superpowers and led to the Cold War, during which both countries engaged in a struggle for ideological dominance and international influence. Following the Soviet Union's collapse and the end of the Cold War in 1991, the U.S. emerged as the world's sole superpower, wielding significant geopolitical influence globally.\\nThe U.S. national government is a presidential constitutional federal republic and liberal democracy with three separate branches: legislative, executive, and judicial. It has a bicameral national legislature composed of the House of Representatives, a lower house based on population; and the Senate, an upper house based on equal representation for each state. Substantial autonomy is provided by federalism, with a political culture promoting liberty, equality, individualism, personal autonomy, and limited government.\\nOne of the world's most developed countries, the United States has had the largest nominal GDP since about 1890 and accounted for 15% of the global economy in 2023. It possesses by far the largest amount of wealth of any country and has the highest disposable household income per capita among OECD countries. The U.S. ranks among the world's highest in economic competitiveness, productivity, innovation, human rights, and higher education. Its hard power and cultural influence have a global reach. The U.S. is a founding member of the World Bank, Organization of American States, NATO, and United Nations, as well as a permanent member of the UN Security Council.\"}], 'role': 'tool', 'name': 'wiki_tool'}, {'content': 'TERMINATE', 'role': 'user', 'name': 'wiki_tool_driver'}], summary='', cost={'usage_including_cached_inference': {'total_cost': 0, 'llama3.1': {'cost': 0, 'prompt_tokens': 987, 'completion_tokens': 88, 'total_tokens': 1075}}, 'usage_excluding_cached_inference': {'total_cost': 0, 'llama3.1': {'cost': 0, 'prompt_tokens': 987, 'completion_tokens': 88, 'total_tokens': 1075}}}, human_input=[])"
      ]
     },
     "execution_count": 1,
     "metadata": {},
     "output_type": "execute_result"
    }
   ],
   "source": [
    "import requests\n",
    "\n",
    "from autogen import ConversableAgent, register_function\n",
    "\n",
    "config_list = [{\n",
    "        \"model\": \"llama3.1\",\n",
    "        \"base_url\": \"http://localhost:11434/v1\",\n",
    "        \"api_key\": \"ollama\"\n",
    "}]\n",
    " \n",
    "\n",
    "def describe_country(country_name:str)->str:\n",
    "    url = \"https://en.wikipedia.org/w/api.php?format=json&action=query&prop=extracts&exintro&explaintext&redirects=1&titles=\"+country_name\n",
    "    try:\n",
    "        response = requests.get(url)\n",
    "        response.raise_for_status()  # Check if the request was successful\n",
    "        json_data = response.json()  # Extract JSON content\n",
    "        page = next(iter(json_data[\"query\"][\"pages\"].values()))\n",
    "        return page[\"extract\"]\n",
    "    except requests.exceptions.HTTPError as http_err:\n",
    "        print(f\"HTTP error occurred: {http_err}\")\n",
    "    except Exception as err:\n",
    "        print(f\"Other error occurred: {err}\")\n",
    "\n",
    "\n",
    "wiki_tool = ConversableAgent(\n",
    "    \"wiki_tool\",\n",
    "    llm_config=False,  # Turn off LLM for this agent.\n",
    "    code_execution_config=False,\n",
    "    # is_termination_msg=lambda msg: \"terminate\" in msg[\"content\"].lower(),\n",
    ")\n",
    "\n",
    "wiki_tool_driver = ConversableAgent(\n",
    "    \"wiki_tool_driver\",\n",
    "    system_message = \"You are a helpful assistant. You may decide to use some external tools if necessary\"\n",
    "    \"If you are happy with the result of the tool, just say TERMINATE\",\n",
    "    llm_config = {\"config_list\": config_list},\n",
    "    code_execution_config=False\n",
    ")\n",
    "\n",
    "register_function(\n",
    "    describe_country,\n",
    "    caller = wiki_tool_driver,\n",
    "    executor = wiki_tool,\n",
    "    description = \"get the description of a country from wiki. this service only receive the formal name of a country\"\n",
    ")\n",
    "\n",
    "wiki_tool.initiate_chat(\n",
    "    wiki_tool_driver,\n",
    "    message = \"I want to know something about a country with nick name uncle sam\",\n",
    "    max_turns = 2\n",
    ")\n"
   ]
  }
 ],
 "metadata": {
  "kernelspec": {
   "display_name": ".venv",
   "language": "python",
   "name": "python3"
  },
  "language_info": {
   "codemirror_mode": {
    "name": "ipython",
    "version": 3
   },
   "file_extension": ".py",
   "mimetype": "text/x-python",
   "name": "python",
   "nbconvert_exporter": "python",
   "pygments_lexer": "ipython3",
   "version": "3.12.5"
  }
 },
 "nbformat": 4,
 "nbformat_minor": 2
}
