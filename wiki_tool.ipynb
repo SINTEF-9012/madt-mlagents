{
 "cells": [
  {
   "cell_type": "code",
   "execution_count": null,
   "metadata": {},
   "outputs": [],
   "source": [
    "import requests\n",
    "from autogen import ConversableAgent, register_function"
   ]
  },
  {
   "cell_type": "code",
   "execution_count": null,
   "metadata": {},
   "outputs": [],
   "source": [
    "#TODO: future config_file should be a json file to not repeat this lines\n",
    "config_list = [{\n",
    "        \"model\": \"llama3.1\",\n",
    "        \"base_url\": \"http://localhost:11434/v1\",\n",
    "        \"api_key\": \"ollama\"\n",
    "}]"
   ]
  },
  {
   "cell_type": "code",
   "execution_count": null,
   "metadata": {},
   "outputs": [],
   "source": [
    "\n",
    "def describe_country(country_name:str)->str:\n",
    "    url = \"https://en.wikipedia.org/w/api.php?format=json&action=query&prop=extracts&exintro&explaintext&redirects=1&titles=\"+country_name\n",
    "    try:\n",
    "        response = requests.get(url)\n",
    "        response.raise_for_status()  # Check if the request was successful\n",
    "        json_data = response.json()  # Extract JSON content\n",
    "        page = next(iter(json_data[\"query\"][\"pages\"].values()))\n",
    "        return page[\"extract\"]\n",
    "    except requests.exceptions.HTTPError as http_err:\n",
    "        print(f\"HTTP error occurred: {http_err}\")\n",
    "    except Exception as err:\n",
    "        print(f\"Other error occurred: {err}\")\n",
    "\n"
   ]
  },
  {
   "cell_type": "code",
   "execution_count": null,
   "metadata": {},
   "outputs": [],
   "source": [
    "wiki_tool = ConversableAgent(\n",
    "    \"wiki_tool\",\n",
    "    llm_config=False,  # Turn off LLM for this agent.\n",
    "    code_execution_config=False,\n",
    "    # is_termination_msg=lambda msg: \"terminate\" in msg[\"content\"].lower(),\n",
    ")\n",
    "\n",
    "wiki_tool_driver = ConversableAgent(\n",
    "    \"wiki_tool_driver\",\n",
    "    system_message = \"You are a helpful assistant. You may decide to use some external tools if necessary\"\n",
    "    \"If you are happy with the result of the tool, just say TERMINATE\",\n",
    "    llm_config = {\"config_list\": config_list},\n",
    "    code_execution_config=False\n",
    ")\n",
    "\n",
    "register_function(\n",
    "    describe_country,\n",
    "    caller = wiki_tool_driver,\n",
    "    executor = wiki_tool,\n",
    "    description = \"get the description of a country from wiki. this service only receive the formal name of a country\"\n",
    ")\n",
    "\n",
    "wiki_tool.initiate_chat(\n",
    "    wiki_tool_driver,\n",
    "    message = \"I want to know something about a country with nick name uncle sam\",\n",
    "    max_turns = 2\n",
    ")"
   ]
  }
 ],
 "metadata": {
  "kernelspec": {
   "display_name": ".venv",
   "language": "python",
   "name": "python3"
  },
  "language_info": {
   "codemirror_mode": {
    "name": "ipython",
    "version": 3
   },
   "file_extension": ".py",
   "mimetype": "text/x-python",
   "name": "python",
   "nbconvert_exporter": "python",
   "pygments_lexer": "ipython3",
   "version": "3.12.5"
  }
 },
 "nbformat": 4,
 "nbformat_minor": 2
}
