{
 "cells": [
  {
   "cell_type": "markdown",
   "metadata": {},
   "source": [
    "# MULTI-AGENT SYSTEM\n",
    "\n",
    "This system has 2-3 agents:\n",
    "- coder, this is the one that has to generate a cypher query\n",
    "- executor, this is the one that test the query on a neo4j database\n",
    "- retriever, this is the agent that will pass the documents to be used by coder. It cannot be considered as a part of the system because it only initiate the chat with the documents."
   ]
  },
  {
   "cell_type": "code",
   "execution_count": 1,
   "metadata": {},
   "outputs": [],
   "source": [
    "from autogen import AssistantAgent, GroupChatManager, GroupChat, config_list_from_json\n",
    "from autogen.agentchat.contrib.retrieve_user_proxy_agent import RetrieveUserProxyAgent, TEXT_FORMATS\n",
    "import os\n",
    "\n",
    "from CypherExecutor import CypherCodeExecutor"
   ]
  },
  {
   "cell_type": "code",
   "execution_count": 2,
   "metadata": {},
   "outputs": [
    {
     "name": "stdout",
     "output_type": "stream",
     "text": [
      "Accepted formats for \"docs_path\": \n",
      "['txt', 'json', 'csv', 'tsv', 'md', 'html', 'htm', 'rtf', 'rst', 'jsonl', 'log', 'xml', 'yaml', 'yml', 'pdf']\n"
     ]
    }
   ],
   "source": [
    "\n",
    "config_list = config_list_from_json(env_or_file=\"CONFIG_LIST\", filter_dict={\"model\": \"gpt-4o\"})\n",
    "config_list[0][\"api_key\"] = os.environ.get(\"GITHUB_TOKEN\")\n",
    "\n",
    "llm_config = {\"config_list\": config_list, \"temperature\": 0.2}\n",
    "\n",
    "prompt = \"\"\"You are a data scientist that works with Cypher queries.\n",
    "Your work is to translate the given answer as Cypher queries.\n",
    "\n",
    "You have some rules to respect:\n",
    "- You must use cypher language.\n",
    "- You can use the pdf files. \n",
    "- You must generate the easiest cypher query possible.\n",
    "- Every query must be in a separate cypher format.\n",
    "- You must be precise and explain everything, code outputs too. \n",
    "\n",
    "Now i will give you some information about the database schema.\n",
    "- nodes -\n",
    "(:Movie), Describe a movie with a title and a plot. It may have the number of likes.\n",
    "(:Person), Describe actors and directors. They have a name and a birthday.\n",
    "\n",
    "- relationships -\n",
    "(:Person) -[:ACTED_IN]-> (:Movie)\n",
    "\n",
    "QUESTION IS:\n",
    "{input_question}\n",
    "\"\"\"\n",
    "\n",
    "print(f'Accepted formats for \"docs_path\": \\n{TEXT_FORMATS}')"
   ]
  },
  {
   "cell_type": "code",
   "execution_count": 3,
   "metadata": {},
   "outputs": [],
   "source": [
    "def termination_msg(x):\n",
    "    return isinstance(x, dict) and \"TERMINATE\" == str(x.get(\"content\", \"\"))[-9:].upper()\n",
    "\n",
    "doc_retriever = RetrieveUserProxyAgent(\n",
    "    name=\"doc_retriever\",\n",
    "    is_termination_msg=termination_msg,\n",
    "    max_consecutive_auto_reply=3,\n",
    "    human_input_mode=\"NEVER\",\n",
    "    retrieve_config={\n",
    "        \"task\": \"code\",\n",
    "        \"docs_path\": \"https://s3.amazonaws.com/artifacts.opencypher.org/openCypher9.pdf\",\n",
    "        \"model\": config_list[0][\"model\"],\n",
    "        \"get_or_create\": True,\n",
    "        \"customized_prompt\": prompt\n",
    "    },\n",
    "    code_execution_config=False,\n",
    "    description=\"Assistant who has extra content retrieval power for solving cypher queries.\"\n",
    ")\n",
    "\n",
    "coder      = AssistantAgent(\n",
    "    name=\"coder\",\n",
    "    is_termination_msg=termination_msg,\n",
    "    system_message=prompt,\n",
    "    llm_config=llm_config,\n",
    ")\n",
    "\n",
    "executor   = AssistantAgent(\n",
    "    name=\"executor\",\n",
    "    is_termination_msg=termination_msg,\n",
    "    human_input_mode=\"NEVER\",\n",
    "    description= \"\"\"Executor provides feedback based on the result of the query.\"\"\",\n",
    "    code_execution_config={\"executor\": CypherCodeExecutor()}\n",
    "    )\n",
    "\n",
    "\n",
    "PROBLEM  = \"Who directed Matrix?\"\n",
    "\n",
    "def _reset_agents():\n",
    "    \"\"\"\n",
    "    This function reset all the agents used for the group chat.\n",
    "    This should be used every time you start a new conversation.\n",
    "    \"\"\"\n",
    "    doc_retriever.reset()\n",
    "    coder.reset()\n",
    "    executor.reset()\n",
    "\n",
    "def state_transition(last_speaker, groupchat):\n",
    "    \"\"\"\n",
    "    This function simply return the next speaker based on the last one.\n",
    "    In this case we decided that doc_retriever should speak only to initiate chat\n",
    "    and then the chat is from coder to executor in a sort of loop.\n",
    "    \"\"\"\n",
    "    if   last_speaker is coder: return executor\n",
    "    elif last_speaker is executor: return coder\n",
    "    elif last_speaker is doc_retriever: return coder\n",
    "\n",
    "def rag_chat():\n",
    "    _reset_agents()\n",
    "    groupchat = GroupChat(agents=[doc_retriever, coder, executor], messages=[], \n",
    "                          max_round=5, speaker_selection_method=state_transition)\n",
    "    manager   = GroupChatManager(groupchat=groupchat, llm_config=llm_config)\n",
    "\n",
    "    doc_retriever.initiate_chat(manager,message=doc_retriever.message_generator, problem=PROBLEM,n_results=3)\n"
   ]
  },
  {
   "cell_type": "code",
   "execution_count": 4,
   "metadata": {},
   "outputs": [
    {
     "name": "stderr",
     "output_type": "stream",
     "text": [
      "2024-09-16 08:53:43,950 - autogen.agentchat.contrib.retrieve_user_proxy_agent - INFO - \u001b[32mUse the existing collection `autogen-docs`.\u001b[0m\n"
     ]
    },
    {
     "name": "stdout",
     "output_type": "stream",
     "text": [
      "Trying to create collection.\n"
     ]
    },
    {
     "name": "stderr",
     "output_type": "stream",
     "text": [
      "max_tokens is too small to fit a single line of text. Breaking this line:\n",
      "\t          ...\n",
      "Failed to split docs with must_break_at_empty_line being True, set to False.\n",
      "2024-09-16 08:53:45,567 - autogen.agentchat.contrib.retrieve_user_proxy_agent - INFO - Found 140 chunks.\u001b[0m\n"
     ]
    },
    {
     "name": "stdout",
     "output_type": "stream",
     "text": [
      "VectorDB returns doc_ids:  [['bb85fb1c', 'fd79e570', 'c3fdf098']]\n",
      "\u001b[32mAdding content of doc bb85fb1c to context.\u001b[0m\n",
      "\u001b[32mAdding content of doc fd79e570 to context.\u001b[0m\n",
      "\u001b[32mAdding content of doc c3fdf098 to context.\u001b[0m\n",
      "\u001b[33mdoc_retriever\u001b[0m (to chat_manager):\n",
      "\n",
      "You are a data scientist that works with Cypher queries.\n",
      "Your work is to translate the given answer as Cypher queries.\n",
      "\n",
      "You have some rules to respect:\n",
      "- You must use cypher language.\n",
      "- You can use the pdf files. \n",
      "- You must generate the easiest cypher query possible.\n",
      "- Every query must be in a separate cypher format.\n",
      "- You must be precise and explain everything, code outputs too. \n",
      "\n",
      "Now i will give you some information about the database schema.\n",
      "- nodes -\n",
      "(:Movie), Describe a movie with a title and a plot. It may have the number of likes.\n",
      "(:Person), Describe actors and directors. They have a name and a birthday.\n",
      "\n",
      "- relationships -\n",
      "(:Person) -[:ACTED_IN]-> (:Movie)\n",
      "\n",
      "QUESTION IS:\n",
      "Who directed Matrix?\n",
      "\n",
      "\n",
      "--------------------------------------------------------------------------------\n",
      "\u001b[32m\n",
      "Next speaker: coder\n",
      "\u001b[0m\n",
      "\u001b[33mcoder\u001b[0m (to chat_manager):\n",
      "\n",
      "To find out who directed \"Matrix,\" we need to look for a relationship between a person and the movie \"Matrix\" where the person is the director. However, based on the schema provided, there is no direct relationship for directors. Assuming directors are also stored as `(:Person)` nodes, we can infer that they might be connected to movies in a similar way to actors.\n",
      "\n",
      "Here's a Cypher query to find the director of \"Matrix\":\n",
      "\n",
      "```cypher\n",
      "MATCH (p:Person)-[:DIRECTED]->(m:Movie {title: \"Matrix\"})\n",
      "RETURN p.name AS Director\n",
      "```\n",
      "\n",
      "**Explanation:**\n",
      "- `MATCH (p:Person)-[:DIRECTED]->(m:Movie {title: \"Matrix\"})`: This pattern searches for a `Person` node connected to a `Movie` node with the title \"Matrix\" through a `DIRECTED` relationship.\n",
      "- `RETURN p.name AS Director`: This returns the name of the person who directed the movie.\n",
      "\n",
      "**Output:**\n",
      "- The query will output the name(s) of the director(s) of the movie \"Matrix\". If the relationship `:DIRECTED` does not exist, you might need to adjust the schema or relationships accordingly.\n",
      "\n",
      "--------------------------------------------------------------------------------\n",
      "\u001b[32m\n",
      "Next speaker: executor\n",
      "\u001b[0m\n",
      "\u001b[31m\n",
      ">>>>>>>> EXECUTING CODE BLOCK (inferred language is cypher)...\u001b[0m\n"
     ]
    },
    {
     "name": "stderr",
     "output_type": "stream",
     "text": [
      "Received notification from DBMS server: {severity: WARNING} {code: Neo.ClientNotification.Statement.UnknownRelationshipTypeWarning} {category: UNRECOGNIZED} {title: The provided relationship type is not in the database.} {description: One of the relationship types in your query is not available in the database, make sure you didn't misspell it or that the label is available when you run this statement in your application (the missing relationship type is: DIRECTED)} {position: line: 1, column: 20, offset: 19} for query: 'MATCH (p:Person)-[:DIRECTED]->(m:Movie {title: \"Matrix\"})\\nRETURN p.name AS Director\\n'\n"
     ]
    },
    {
     "ename": "Neo4jError",
     "evalue": "{severity: WARNING} {code: Neo.ClientNotification.Statement.UnknownRelationshipTypeWarning} {category: UNRECOGNIZED} {title: The provided relationship type is not in the database.} {description: One of the relationship types in your query is not available in the database, make sure you didn't misspell it or that the label is available when you run this statement in your application (the missing relationship type is: DIRECTED)} {position: line: 1, column: 20, offset: 19}",
     "output_type": "error",
     "traceback": [
      "\u001b[0;31m---------------------------------------------------------------------------\u001b[0m",
      "\u001b[0;31mNeo4jError\u001b[0m                                Traceback (most recent call last)",
      "Cell \u001b[0;32mIn[4], line 1\u001b[0m\n\u001b[0;32m----> 1\u001b[0m \u001b[43mget_ipython\u001b[49m\u001b[43m(\u001b[49m\u001b[43m)\u001b[49m\u001b[38;5;241;43m.\u001b[39;49m\u001b[43mrun_cell_magic\u001b[49m\u001b[43m(\u001b[49m\u001b[38;5;124;43m'\u001b[39;49m\u001b[38;5;124;43mcypher\u001b[39;49m\u001b[38;5;124;43m'\u001b[39;49m\u001b[43m,\u001b[49m\u001b[43m \u001b[49m\u001b[38;5;124;43m'\u001b[39;49m\u001b[38;5;124;43m'\u001b[39;49m\u001b[43m,\u001b[49m\u001b[43m \u001b[49m\u001b[38;5;124;43m'\u001b[39;49m\u001b[38;5;124;43mMATCH (p:Person)-[:DIRECTED]->(m:Movie \u001b[39;49m\u001b[38;5;124;43m{\u001b[39;49m\u001b[38;5;124;43mtitle: \u001b[39;49m\u001b[38;5;124;43m\"\u001b[39;49m\u001b[38;5;124;43mMatrix\u001b[39;49m\u001b[38;5;124;43m\"\u001b[39;49m\u001b[38;5;124;43m})\u001b[39;49m\u001b[38;5;130;43;01m\\n\u001b[39;49;00m\u001b[38;5;124;43mRETURN p.name AS Director\u001b[39;49m\u001b[38;5;130;43;01m\\n\u001b[39;49;00m\u001b[38;5;124;43m'\u001b[39;49m\u001b[43m)\u001b[49m\n",
      "File \u001b[0;32m~/Scrivania/scuola/uni/traineeship/madt-mlagents/.venv/lib/python3.12/site-packages/IPython/core/interactiveshell.py:2541\u001b[0m, in \u001b[0;36mInteractiveShell.run_cell_magic\u001b[0;34m(self, magic_name, line, cell)\u001b[0m\n\u001b[1;32m   2539\u001b[0m \u001b[38;5;28;01mwith\u001b[39;00m \u001b[38;5;28mself\u001b[39m\u001b[38;5;241m.\u001b[39mbuiltin_trap:\n\u001b[1;32m   2540\u001b[0m     args \u001b[38;5;241m=\u001b[39m (magic_arg_s, cell)\n\u001b[0;32m-> 2541\u001b[0m     result \u001b[38;5;241m=\u001b[39m \u001b[43mfn\u001b[49m\u001b[43m(\u001b[49m\u001b[38;5;241;43m*\u001b[39;49m\u001b[43margs\u001b[49m\u001b[43m,\u001b[49m\u001b[43m \u001b[49m\u001b[38;5;241;43m*\u001b[39;49m\u001b[38;5;241;43m*\u001b[39;49m\u001b[43mkwargs\u001b[49m\u001b[43m)\u001b[49m\n\u001b[1;32m   2543\u001b[0m \u001b[38;5;66;03m# The code below prevents the output from being displayed\u001b[39;00m\n\u001b[1;32m   2544\u001b[0m \u001b[38;5;66;03m# when using magics with decorator @output_can_be_silenced\u001b[39;00m\n\u001b[1;32m   2545\u001b[0m \u001b[38;5;66;03m# when the last Python token in the expression is a ';'.\u001b[39;00m\n\u001b[1;32m   2546\u001b[0m \u001b[38;5;28;01mif\u001b[39;00m \u001b[38;5;28mgetattr\u001b[39m(fn, magic\u001b[38;5;241m.\u001b[39mMAGIC_OUTPUT_CAN_BE_SILENCED, \u001b[38;5;28;01mFalse\u001b[39;00m):\n",
      "File \u001b[0;32m~/Scrivania/scuola/uni/traineeship/madt-mlagents/tools.py:84\u001b[0m, in \u001b[0;36mcypher\u001b[0;34m(line, cell)\u001b[0m\n\u001b[1;32m     72\u001b[0m \u001b[38;5;250m\u001b[39m\u001b[38;5;124;03m\"\"\"\u001b[39;00m\n\u001b[1;32m     73\u001b[0m \u001b[38;5;124;03mIt registers the magic cypher to be used in the notebook\u001b[39;00m\n\u001b[1;32m     74\u001b[0m \u001b[38;5;124;03mby the executor agent.\u001b[39;00m\n\u001b[0;32m   (...)\u001b[0m\n\u001b[1;32m     81\u001b[0m \u001b[38;5;124;03m    _type_: The result of the query, if it wasn't successful will be an empty list.\u001b[39;00m\n\u001b[1;32m     82\u001b[0m \u001b[38;5;124;03m\"\"\"\u001b[39;00m\n\u001b[1;32m     83\u001b[0m \u001b[38;5;28;01mif\u001b[39;00m \u001b[38;5;129;01mnot\u001b[39;00m cell: res \u001b[38;5;241m=\u001b[39m run_query(line)\n\u001b[0;32m---> 84\u001b[0m \u001b[38;5;28;01melse\u001b[39;00m:  res \u001b[38;5;241m=\u001b[39m \u001b[43mrun_query\u001b[49m\u001b[43m(\u001b[49m\u001b[43mcell\u001b[49m\u001b[43m)\u001b[49m\n\u001b[1;32m     85\u001b[0m \u001b[38;5;28;01mreturn\u001b[39;00m res\n",
      "File \u001b[0;32m~/Scrivania/scuola/uni/traineeship/madt-mlagents/tools.py:60\u001b[0m, in \u001b[0;36mrun_query\u001b[0;34m(query, driver)\u001b[0m\n\u001b[1;32m     58\u001b[0m s \u001b[38;5;241m=\u001b[39m n\u001b[38;5;241m.\u001b[39mseverity_level\n\u001b[1;32m     59\u001b[0m \u001b[38;5;28;01mif\u001b[39;00m s \u001b[38;5;241m==\u001b[39m \u001b[38;5;124m\"\u001b[39m\u001b[38;5;124mWARNING\u001b[39m\u001b[38;5;124m\"\u001b[39m:\n\u001b[0;32m---> 60\u001b[0m     \u001b[38;5;28;01mraise\u001b[39;00m Neo4jError(n)\n\u001b[1;32m     61\u001b[0m \u001b[38;5;28;01melif\u001b[39;00m s \u001b[38;5;241m==\u001b[39m \u001b[38;5;124m\"\u001b[39m\u001b[38;5;124mINFORMATION\u001b[39m\u001b[38;5;124m\"\u001b[39m:\n\u001b[1;32m     62\u001b[0m     log\u001b[38;5;241m.\u001b[39mwarning(\u001b[38;5;124m\"\u001b[39m\u001b[38;5;132;01m%r\u001b[39;00m\u001b[38;5;124m\"\u001b[39m, n)\n",
      "\u001b[0;31mNeo4jError\u001b[0m: {severity: WARNING} {code: Neo.ClientNotification.Statement.UnknownRelationshipTypeWarning} {category: UNRECOGNIZED} {title: The provided relationship type is not in the database.} {description: One of the relationship types in your query is not available in the database, make sure you didn't misspell it or that the label is available when you run this statement in your application (the missing relationship type is: DIRECTED)} {position: line: 1, column: 20, offset: 19}"
     ]
    },
    {
     "name": "stdout",
     "output_type": "stream",
     "text": [
      "\u001b[33mexecutor\u001b[0m (to chat_manager):\n",
      "\n",
      "exitcode: 1 (execution failed)\n",
      "Code output: \n",
      "{severity: WARNING} {code: Neo.ClientNotification.Statement.UnknownRelationshipTypeWarning} {category: UNRECOGNIZED} {title: The provided relationship type is not in the database.} {description: One of the relationship types in your query is not available in the database, make sure you didn't misspell it or that the label is available when you run this statement in your application (the missing relationship type is: DIRECTED)} {position: line: 1, column: 20, offset: 19}\n",
      "\n",
      "--------------------------------------------------------------------------------\n",
      "\u001b[32m\n",
      "Next speaker: coder\n",
      "\u001b[0m\n",
      "\u001b[33mcoder\u001b[0m (to chat_manager):\n",
      "\n",
      "It seems the relationship type `:DIRECTED` does not exist in the database. Based on the schema provided, we only have `:ACTED_IN` relationships. \n",
      "\n",
      "If directors are not explicitly modeled, we might need to adjust our approach. Assuming directors are not stored separately, we cannot directly query for them without additional schema information.\n",
      "\n",
      "If you have more details on how directors are stored, please provide them. Otherwise, we might need to consider that directors are not represented in this dataset.\n",
      "\n",
      "--------------------------------------------------------------------------------\n",
      "\u001b[32m\n",
      "Next speaker: executor\n",
      "\u001b[0m\n",
      "\u001b[33mexecutor\u001b[0m (to chat_manager):\n",
      "\n",
      "\n",
      "\n",
      "--------------------------------------------------------------------------------\n"
     ]
    }
   ],
   "source": [
    "rag_chat()"
   ]
  }
 ],
 "metadata": {
  "kernelspec": {
   "display_name": ".venv",
   "language": "python",
   "name": "python3"
  },
  "language_info": {
   "codemirror_mode": {
    "name": "ipython",
    "version": 3
   },
   "file_extension": ".py",
   "mimetype": "text/x-python",
   "name": "python",
   "nbconvert_exporter": "python",
   "pygments_lexer": "ipython3",
   "version": "3.12.5"
  }
 },
 "nbformat": 4,
 "nbformat_minor": 2
}
